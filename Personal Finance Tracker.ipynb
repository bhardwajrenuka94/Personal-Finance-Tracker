{
 "cells": [
  {
   "cell_type": "code",
   "execution_count": 1,
   "id": "d368d743-f18f-48d5-ba3c-d48255942659",
   "metadata": {},
   "outputs": [],
   "source": [
    "import pandas as pd\n",
    "import numpy as np\n",
    "import seaborn as sns\n",
    "import matplotlib.pyplot as plt\n",
    "%matplotlib inline\n",
    "import os\n",
    "from warnings import filterwarnings ; filterwarnings('ignore')"
   ]
  },
  {
   "cell_type": "code",
   "execution_count": 3,
   "id": "2069c672-2690-4ef5-ab3a-8892801b806f",
   "metadata": {},
   "outputs": [],
   "source": [
    "df = pd.read_excel(\"personal finance data.xlsx\")"
   ]
  },
  {
   "cell_type": "code",
   "execution_count": 5,
   "id": "00f31b87-8aab-48f9-926a-58ceea246e01",
   "metadata": {},
   "outputs": [
    {
     "data": {
      "text/html": [
       "<div>\n",
       "<style scoped>\n",
       "    .dataframe tbody tr th:only-of-type {\n",
       "        vertical-align: middle;\n",
       "    }\n",
       "\n",
       "    .dataframe tbody tr th {\n",
       "        vertical-align: top;\n",
       "    }\n",
       "\n",
       "    .dataframe thead th {\n",
       "        text-align: right;\n",
       "    }\n",
       "</style>\n",
       "<table border=\"1\" class=\"dataframe\">\n",
       "  <thead>\n",
       "    <tr style=\"text-align: right;\">\n",
       "      <th></th>\n",
       "      <th>Date / Time</th>\n",
       "      <th>Mode</th>\n",
       "      <th>Category</th>\n",
       "      <th>Sub category</th>\n",
       "      <th>Income/Expense</th>\n",
       "      <th>Debit/Credit</th>\n",
       "    </tr>\n",
       "  </thead>\n",
       "  <tbody>\n",
       "    <tr>\n",
       "      <th>0</th>\n",
       "      <td>2021-01-01 21:45:00</td>\n",
       "      <td>CUB - online payment</td>\n",
       "      <td>Allowance</td>\n",
       "      <td>From dad</td>\n",
       "      <td>Income</td>\n",
       "      <td>8000.0</td>\n",
       "    </tr>\n",
       "    <tr>\n",
       "      <th>1</th>\n",
       "      <td>2021-01-01 21:46:00</td>\n",
       "      <td>CUB - online payment</td>\n",
       "      <td>Food</td>\n",
       "      <td>Snacks</td>\n",
       "      <td>Expense</td>\n",
       "      <td>85.0</td>\n",
       "    </tr>\n",
       "    <tr>\n",
       "      <th>2</th>\n",
       "      <td>2021-01-03 18:21:00</td>\n",
       "      <td>CUB - online payment</td>\n",
       "      <td>Other</td>\n",
       "      <td>From dad</td>\n",
       "      <td>Income</td>\n",
       "      <td>500.0</td>\n",
       "    </tr>\n",
       "    <tr>\n",
       "      <th>3</th>\n",
       "      <td>2021-01-03 18:22:00</td>\n",
       "      <td>CUB - online payment</td>\n",
       "      <td>Household</td>\n",
       "      <td>Stuffs</td>\n",
       "      <td>Expense</td>\n",
       "      <td>6667.0</td>\n",
       "    </tr>\n",
       "    <tr>\n",
       "      <th>4</th>\n",
       "      <td>2021-01-03 18:56:00</td>\n",
       "      <td>CUB - online payment</td>\n",
       "      <td>Transportation</td>\n",
       "      <td>Metro</td>\n",
       "      <td>Expense</td>\n",
       "      <td>30.0</td>\n",
       "    </tr>\n",
       "    <tr>\n",
       "      <th>...</th>\n",
       "      <td>...</td>\n",
       "      <td>...</td>\n",
       "      <td>...</td>\n",
       "      <td>...</td>\n",
       "      <td>...</td>\n",
       "      <td>...</td>\n",
       "    </tr>\n",
       "    <tr>\n",
       "      <th>220</th>\n",
       "      <td>2021-12-30 12:37:00</td>\n",
       "      <td>CUB - online payment</td>\n",
       "      <td>Other</td>\n",
       "      <td>From Deepak</td>\n",
       "      <td>Income</td>\n",
       "      <td>250.0</td>\n",
       "    </tr>\n",
       "    <tr>\n",
       "      <th>221</th>\n",
       "      <td>2021-12-30 12:43:00</td>\n",
       "      <td>CUB - online payment</td>\n",
       "      <td>Food</td>\n",
       "      <td>Horlicks + kolakattai</td>\n",
       "      <td>Expense</td>\n",
       "      <td>25.0</td>\n",
       "    </tr>\n",
       "    <tr>\n",
       "      <th>222</th>\n",
       "      <td>2021-12-30 13:36:00</td>\n",
       "      <td>CUB - online payment</td>\n",
       "      <td>Salary</td>\n",
       "      <td>office</td>\n",
       "      <td>Income</td>\n",
       "      <td>55530.0</td>\n",
       "    </tr>\n",
       "    <tr>\n",
       "      <th>223</th>\n",
       "      <td>2021-12-30 13:56:00</td>\n",
       "      <td>CUB - online payment</td>\n",
       "      <td>Transportation</td>\n",
       "      <td>Pg to office</td>\n",
       "      <td>Expense</td>\n",
       "      <td>43.0</td>\n",
       "    </tr>\n",
       "    <tr>\n",
       "      <th>224</th>\n",
       "      <td>2021-12-30 14:10:00</td>\n",
       "      <td>CUB - online payment</td>\n",
       "      <td>Food</td>\n",
       "      <td>To barath</td>\n",
       "      <td>Expense</td>\n",
       "      <td>20.0</td>\n",
       "    </tr>\n",
       "  </tbody>\n",
       "</table>\n",
       "<p>225 rows × 6 columns</p>\n",
       "</div>"
      ],
      "text/plain": [
       "            Date / Time                  Mode        Category  \\\n",
       "0   2021-01-01 21:45:00  CUB - online payment       Allowance   \n",
       "1   2021-01-01 21:46:00  CUB - online payment            Food   \n",
       "2   2021-01-03 18:21:00  CUB - online payment           Other   \n",
       "3   2021-01-03 18:22:00  CUB - online payment       Household   \n",
       "4   2021-01-03 18:56:00  CUB - online payment  Transportation   \n",
       "..                  ...                   ...             ...   \n",
       "220 2021-12-30 12:37:00  CUB - online payment           Other   \n",
       "221 2021-12-30 12:43:00  CUB - online payment            Food   \n",
       "222 2021-12-30 13:36:00  CUB - online payment          Salary   \n",
       "223 2021-12-30 13:56:00  CUB - online payment  Transportation   \n",
       "224 2021-12-30 14:10:00  CUB - online payment            Food   \n",
       "\n",
       "              Sub category Income/Expense  Debit/Credit  \n",
       "0                 From dad         Income        8000.0  \n",
       "1                   Snacks        Expense          85.0  \n",
       "2                 From dad         Income         500.0  \n",
       "3                   Stuffs        Expense        6667.0  \n",
       "4                    Metro        Expense          30.0  \n",
       "..                     ...            ...           ...  \n",
       "220            From Deepak         Income         250.0  \n",
       "221  Horlicks + kolakattai        Expense          25.0  \n",
       "222                 office         Income       55530.0  \n",
       "223           Pg to office        Expense          43.0  \n",
       "224              To barath        Expense          20.0  \n",
       "\n",
       "[225 rows x 6 columns]"
      ]
     },
     "execution_count": 5,
     "metadata": {},
     "output_type": "execute_result"
    }
   ],
   "source": [
    "df"
   ]
  },
  {
   "cell_type": "code",
   "execution_count": 7,
   "id": "872e623c-5b2f-41bf-9035-e828b918b74f",
   "metadata": {},
   "outputs": [
    {
     "data": {
      "text/html": [
       "<div>\n",
       "<style scoped>\n",
       "    .dataframe tbody tr th:only-of-type {\n",
       "        vertical-align: middle;\n",
       "    }\n",
       "\n",
       "    .dataframe tbody tr th {\n",
       "        vertical-align: top;\n",
       "    }\n",
       "\n",
       "    .dataframe thead th {\n",
       "        text-align: right;\n",
       "    }\n",
       "</style>\n",
       "<table border=\"1\" class=\"dataframe\">\n",
       "  <thead>\n",
       "    <tr style=\"text-align: right;\">\n",
       "      <th></th>\n",
       "      <th>Date / Time</th>\n",
       "      <th>Mode</th>\n",
       "      <th>Category</th>\n",
       "      <th>Sub category</th>\n",
       "      <th>Income/Expense</th>\n",
       "      <th>Debit/Credit</th>\n",
       "    </tr>\n",
       "  </thead>\n",
       "  <tbody>\n",
       "    <tr>\n",
       "      <th>0</th>\n",
       "      <td>2021-01-01 21:45:00</td>\n",
       "      <td>CUB - online payment</td>\n",
       "      <td>Allowance</td>\n",
       "      <td>From dad</td>\n",
       "      <td>Income</td>\n",
       "      <td>8000.0</td>\n",
       "    </tr>\n",
       "    <tr>\n",
       "      <th>1</th>\n",
       "      <td>2021-01-01 21:46:00</td>\n",
       "      <td>CUB - online payment</td>\n",
       "      <td>Food</td>\n",
       "      <td>Snacks</td>\n",
       "      <td>Expense</td>\n",
       "      <td>85.0</td>\n",
       "    </tr>\n",
       "    <tr>\n",
       "      <th>2</th>\n",
       "      <td>2021-01-03 18:21:00</td>\n",
       "      <td>CUB - online payment</td>\n",
       "      <td>Other</td>\n",
       "      <td>From dad</td>\n",
       "      <td>Income</td>\n",
       "      <td>500.0</td>\n",
       "    </tr>\n",
       "    <tr>\n",
       "      <th>3</th>\n",
       "      <td>2021-01-03 18:22:00</td>\n",
       "      <td>CUB - online payment</td>\n",
       "      <td>Household</td>\n",
       "      <td>Stuffs</td>\n",
       "      <td>Expense</td>\n",
       "      <td>6667.0</td>\n",
       "    </tr>\n",
       "    <tr>\n",
       "      <th>4</th>\n",
       "      <td>2021-01-03 18:56:00</td>\n",
       "      <td>CUB - online payment</td>\n",
       "      <td>Transportation</td>\n",
       "      <td>Metro</td>\n",
       "      <td>Expense</td>\n",
       "      <td>30.0</td>\n",
       "    </tr>\n",
       "  </tbody>\n",
       "</table>\n",
       "</div>"
      ],
      "text/plain": [
       "          Date / Time                  Mode        Category Sub category  \\\n",
       "0 2021-01-01 21:45:00  CUB - online payment       Allowance     From dad   \n",
       "1 2021-01-01 21:46:00  CUB - online payment            Food       Snacks   \n",
       "2 2021-01-03 18:21:00  CUB - online payment           Other     From dad   \n",
       "3 2021-01-03 18:22:00  CUB - online payment       Household       Stuffs   \n",
       "4 2021-01-03 18:56:00  CUB - online payment  Transportation        Metro   \n",
       "\n",
       "  Income/Expense  Debit/Credit  \n",
       "0         Income        8000.0  \n",
       "1        Expense          85.0  \n",
       "2         Income         500.0  \n",
       "3        Expense        6667.0  \n",
       "4        Expense          30.0  "
      ]
     },
     "execution_count": 7,
     "metadata": {},
     "output_type": "execute_result"
    }
   ],
   "source": [
    "df.head(5)"
   ]
  },
  {
   "cell_type": "code",
   "execution_count": 9,
   "id": "d84572d7-9a62-41e3-acc1-db2c6381252a",
   "metadata": {},
   "outputs": [
    {
     "data": {
      "text/html": [
       "<div>\n",
       "<style scoped>\n",
       "    .dataframe tbody tr th:only-of-type {\n",
       "        vertical-align: middle;\n",
       "    }\n",
       "\n",
       "    .dataframe tbody tr th {\n",
       "        vertical-align: top;\n",
       "    }\n",
       "\n",
       "    .dataframe thead th {\n",
       "        text-align: right;\n",
       "    }\n",
       "</style>\n",
       "<table border=\"1\" class=\"dataframe\">\n",
       "  <thead>\n",
       "    <tr style=\"text-align: right;\">\n",
       "      <th></th>\n",
       "      <th>Date / Time</th>\n",
       "      <th>Mode</th>\n",
       "      <th>Category</th>\n",
       "      <th>Sub category</th>\n",
       "      <th>Income/Expense</th>\n",
       "      <th>Debit/Credit</th>\n",
       "    </tr>\n",
       "  </thead>\n",
       "  <tbody>\n",
       "    <tr>\n",
       "      <th>220</th>\n",
       "      <td>2021-12-30 12:37:00</td>\n",
       "      <td>CUB - online payment</td>\n",
       "      <td>Other</td>\n",
       "      <td>From Deepak</td>\n",
       "      <td>Income</td>\n",
       "      <td>250.0</td>\n",
       "    </tr>\n",
       "    <tr>\n",
       "      <th>221</th>\n",
       "      <td>2021-12-30 12:43:00</td>\n",
       "      <td>CUB - online payment</td>\n",
       "      <td>Food</td>\n",
       "      <td>Horlicks + kolakattai</td>\n",
       "      <td>Expense</td>\n",
       "      <td>25.0</td>\n",
       "    </tr>\n",
       "    <tr>\n",
       "      <th>222</th>\n",
       "      <td>2021-12-30 13:36:00</td>\n",
       "      <td>CUB - online payment</td>\n",
       "      <td>Salary</td>\n",
       "      <td>office</td>\n",
       "      <td>Income</td>\n",
       "      <td>55530.0</td>\n",
       "    </tr>\n",
       "    <tr>\n",
       "      <th>223</th>\n",
       "      <td>2021-12-30 13:56:00</td>\n",
       "      <td>CUB - online payment</td>\n",
       "      <td>Transportation</td>\n",
       "      <td>Pg to office</td>\n",
       "      <td>Expense</td>\n",
       "      <td>43.0</td>\n",
       "    </tr>\n",
       "    <tr>\n",
       "      <th>224</th>\n",
       "      <td>2021-12-30 14:10:00</td>\n",
       "      <td>CUB - online payment</td>\n",
       "      <td>Food</td>\n",
       "      <td>To barath</td>\n",
       "      <td>Expense</td>\n",
       "      <td>20.0</td>\n",
       "    </tr>\n",
       "  </tbody>\n",
       "</table>\n",
       "</div>"
      ],
      "text/plain": [
       "            Date / Time                  Mode        Category  \\\n",
       "220 2021-12-30 12:37:00  CUB - online payment           Other   \n",
       "221 2021-12-30 12:43:00  CUB - online payment            Food   \n",
       "222 2021-12-30 13:36:00  CUB - online payment          Salary   \n",
       "223 2021-12-30 13:56:00  CUB - online payment  Transportation   \n",
       "224 2021-12-30 14:10:00  CUB - online payment            Food   \n",
       "\n",
       "              Sub category Income/Expense  Debit/Credit  \n",
       "220            From Deepak         Income         250.0  \n",
       "221  Horlicks + kolakattai        Expense          25.0  \n",
       "222                 office         Income       55530.0  \n",
       "223           Pg to office        Expense          43.0  \n",
       "224              To barath        Expense          20.0  "
      ]
     },
     "execution_count": 9,
     "metadata": {},
     "output_type": "execute_result"
    }
   ],
   "source": [
    "df.tail(5)"
   ]
  },
  {
   "cell_type": "code",
   "execution_count": 11,
   "id": "9cfcfed6-b2bb-4ed5-9ba9-bd715fa2647a",
   "metadata": {},
   "outputs": [
    {
     "name": "stdout",
     "output_type": "stream",
     "text": [
      "<class 'pandas.core.frame.DataFrame'>\n",
      "RangeIndex: 225 entries, 0 to 224\n",
      "Data columns (total 6 columns):\n",
      " #   Column          Non-Null Count  Dtype         \n",
      "---  ------          --------------  -----         \n",
      " 0   Date / Time     225 non-null    datetime64[ns]\n",
      " 1   Mode            225 non-null    object        \n",
      " 2   Category        225 non-null    object        \n",
      " 3   Sub category    225 non-null    object        \n",
      " 4   Income/Expense  225 non-null    object        \n",
      " 5   Debit/Credit    225 non-null    float64       \n",
      "dtypes: datetime64[ns](1), float64(1), object(4)\n",
      "memory usage: 10.7+ KB\n"
     ]
    }
   ],
   "source": [
    "df.info()"
   ]
  },
  {
   "cell_type": "code",
   "execution_count": 13,
   "id": "bac49768-d18e-4972-b90b-8dec52b9568c",
   "metadata": {},
   "outputs": [
    {
     "data": {
      "text/html": [
       "<div>\n",
       "<style scoped>\n",
       "    .dataframe tbody tr th:only-of-type {\n",
       "        vertical-align: middle;\n",
       "    }\n",
       "\n",
       "    .dataframe tbody tr th {\n",
       "        vertical-align: top;\n",
       "    }\n",
       "\n",
       "    .dataframe thead th {\n",
       "        text-align: right;\n",
       "    }\n",
       "</style>\n",
       "<table border=\"1\" class=\"dataframe\">\n",
       "  <thead>\n",
       "    <tr style=\"text-align: right;\">\n",
       "      <th></th>\n",
       "      <th>Date / Time</th>\n",
       "      <th>Debit/Credit</th>\n",
       "    </tr>\n",
       "  </thead>\n",
       "  <tbody>\n",
       "    <tr>\n",
       "      <th>count</th>\n",
       "      <td>225</td>\n",
       "      <td>225.000000</td>\n",
       "    </tr>\n",
       "    <tr>\n",
       "      <th>mean</th>\n",
       "      <td>2021-07-06 02:51:24.266666752</td>\n",
       "      <td>3768.890133</td>\n",
       "    </tr>\n",
       "    <tr>\n",
       "      <th>min</th>\n",
       "      <td>2021-01-01 21:45:00</td>\n",
       "      <td>8.000000</td>\n",
       "    </tr>\n",
       "    <tr>\n",
       "      <th>25%</th>\n",
       "      <td>2021-02-21 15:40:00</td>\n",
       "      <td>80.000000</td>\n",
       "    </tr>\n",
       "    <tr>\n",
       "      <th>50%</th>\n",
       "      <td>2021-06-22 16:41:00</td>\n",
       "      <td>200.000000</td>\n",
       "    </tr>\n",
       "    <tr>\n",
       "      <th>75%</th>\n",
       "      <td>2021-11-28 19:59:00</td>\n",
       "      <td>700.000000</td>\n",
       "    </tr>\n",
       "    <tr>\n",
       "      <th>max</th>\n",
       "      <td>2021-12-30 14:10:00</td>\n",
       "      <td>55530.000000</td>\n",
       "    </tr>\n",
       "    <tr>\n",
       "      <th>std</th>\n",
       "      <td>NaN</td>\n",
       "      <td>12353.959576</td>\n",
       "    </tr>\n",
       "  </tbody>\n",
       "</table>\n",
       "</div>"
      ],
      "text/plain": [
       "                         Date / Time  Debit/Credit\n",
       "count                            225    225.000000\n",
       "mean   2021-07-06 02:51:24.266666752   3768.890133\n",
       "min              2021-01-01 21:45:00      8.000000\n",
       "25%              2021-02-21 15:40:00     80.000000\n",
       "50%              2021-06-22 16:41:00    200.000000\n",
       "75%              2021-11-28 19:59:00    700.000000\n",
       "max              2021-12-30 14:10:00  55530.000000\n",
       "std                              NaN  12353.959576"
      ]
     },
     "execution_count": 13,
     "metadata": {},
     "output_type": "execute_result"
    }
   ],
   "source": [
    "df.describe()"
   ]
  },
  {
   "cell_type": "code",
   "execution_count": 15,
   "id": "941e2a21-3682-4088-bd0d-a5f9682732e7",
   "metadata": {},
   "outputs": [
    {
     "name": "stdout",
     "output_type": "stream",
     "text": [
      "['Allowance' 'Food' 'Other' 'Household' 'Transportation' 'apparel'\n",
      " 'salary' 'Apparel' 'Education' 'Salary']\n"
     ]
    }
   ],
   "source": [
    "# Check unique values\n",
    "print(df['Category'].unique())"
   ]
  },
  {
   "cell_type": "code",
   "execution_count": 17,
   "id": "fcf3846e-5d12-42e2-9b15-279a969f01cd",
   "metadata": {},
   "outputs": [
    {
     "name": "stdout",
     "output_type": "stream",
     "text": [
      "['CUB - online payment']\n"
     ]
    }
   ],
   "source": [
    "print(df['Mode'].unique())"
   ]
  },
  {
   "cell_type": "code",
   "execution_count": 19,
   "id": "f2907c6d-716f-448d-85c5-9468ea560872",
   "metadata": {},
   "outputs": [],
   "source": [
    "# Convert 'Date / Time' to datetime\n",
    "df['Date / Time'] = pd.to_datetime(df['Date / Time'])"
   ]
  },
  {
   "cell_type": "code",
   "execution_count": 21,
   "id": "d1f45766-df7c-42f9-b53d-8e099be39ae4",
   "metadata": {},
   "outputs": [],
   "source": [
    "# Standardize strings\n",
    "df['Category'] = df['Category'].str.title()\n",
    "df['Sub category'] = df['Sub category'].str.title()\n",
    "df['Mode'] = df['Mode'].str.title()\n",
    "df['Income/Expense'] = df['Income/Expense'].str.title()"
   ]
  },
  {
   "cell_type": "code",
   "execution_count": 23,
   "id": "86bea86e-9b9e-4b7a-8d28-870b27ae7f92",
   "metadata": {},
   "outputs": [],
   "source": [
    "# Ensure 'Debit/Credit' is numeric\n",
    "df['Debit/Credit'] = pd.to_numeric(df['Debit/Credit'], errors='coerce')\n"
   ]
  },
  {
   "cell_type": "code",
   "execution_count": 25,
   "id": "30834b02-6df0-4a46-9f6a-30a6aa74e1f5",
   "metadata": {},
   "outputs": [
    {
     "name": "stdout",
     "output_type": "stream",
     "text": [
      "Total Income: 698147.0\n",
      "Total Expense: 149853.28\n",
      "Total Savings: 548293.72\n"
     ]
    }
   ],
   "source": [
    "# Total income and expense\n",
    "\n",
    "total_income = df[df['Income/Expense'] == 'Income']['Debit/Credit'].sum()\n",
    "total_expense = df[df['Income/Expense'] == 'Expense']['Debit/Credit'].sum()\n",
    "print(\"Total Income:\", total_income)\n",
    "print(\"Total Expense:\", total_expense)\n",
    "print(\"Total Savings:\", total_income - total_expense)\n"
   ]
  },
  {
   "cell_type": "code",
   "execution_count": 27,
   "id": "cc78ab43-4b93-4958-ae7f-896addd9b565",
   "metadata": {},
   "outputs": [
    {
     "name": "stdout",
     "output_type": "stream",
     "text": [
      "Category\n",
      "Allowance          13000.00\n",
      "Apparel            11674.72\n",
      "Education          14000.00\n",
      "Food               24607.76\n",
      "Household          54810.00\n",
      "Other              53124.00\n",
      "Salary            660910.00\n",
      "Transportation     15873.80\n",
      "Name: Debit/Credit, dtype: float64\n",
      "Sub category\n",
      "Arrear And Reval Fee     14000.0\n",
      "Auto To Gobi'S Place       214.0\n",
      "Badminton                  200.0\n",
      "Banana                      10.0\n",
      "Bean Bag                  8297.0\n",
      "                          ...   \n",
      "Vishnu 100 Gowdham 25      125.0\n",
      "Vnr To Apk                  50.0\n",
      "Water                       70.0\n",
      "Zinger Box Meal            279.0\n",
      "Zomato                     269.4\n",
      "Name: Debit/Credit, Length: 134, dtype: float64\n"
     ]
    }
   ],
   "source": [
    "## Category-wise & Subcategory-wise Summary\n",
    "\n",
    "category_summary = df.groupby('Category')['Debit/Credit'].sum()\n",
    "subcategory_summary = df.groupby('Sub category')['Debit/Credit'].sum()\n",
    "print(category_summary)\n",
    "print(subcategory_summary)\n"
   ]
  },
  {
   "cell_type": "code",
   "execution_count": 29,
   "id": "f330a881-8ad9-4fe9-a560-b37fedeec71b",
   "metadata": {},
   "outputs": [
    {
     "name": "stdout",
     "output_type": "stream",
     "text": [
      "Mode\n",
      "Cub - Online Payment    848000.28\n",
      "Name: Debit/Credit, dtype: float64\n"
     ]
    }
   ],
   "source": [
    "## Mode Analysis\n",
    "\n",
    "mode_summary = df.groupby('Mode')['Debit/Credit'].sum()\n",
    "print(mode_summary)\n"
   ]
  },
  {
   "cell_type": "code",
   "execution_count": 31,
   "id": "2ada5380-aa8f-4c7c-a02f-a1e0f97fc653",
   "metadata": {},
   "outputs": [],
   "source": [
    "## Monthly Trend \n",
    "\n",
    "df['Month'] = df['Date / Time'].dt.to_period('M')\n",
    "monthly_expense = df[df['Income/Expense']=='Expense'].groupby('Month')['Debit/Credit'].sum()\n",
    "monthly_income = df[df['Income/Expense']=='Income'].groupby('Month')['Debit/Credit'].sum()\n"
   ]
  },
  {
   "cell_type": "code",
   "execution_count": 33,
   "id": "85cb19fe-1e1a-4736-ac9c-92be8e7027ec",
   "metadata": {},
   "outputs": [],
   "source": [
    "## Visualizations"
   ]
  },
  {
   "cell_type": "code",
   "execution_count": 35,
   "id": "15e78073-72c1-4777-aa9c-05f814bf340b",
   "metadata": {},
   "outputs": [
    {
     "data": {
      "image/png": "[encoded data removed]",
      "text/plain": [
       "<Figure size 640x480 with 1 Axes>"
      ]
     },
     "metadata": {},
     "output_type": "display_data"
    }
   ],
   "source": [
    "# Category-wise bar chart\n",
    "category_summary.plot(kind='bar', title='Category-wise Expense/Income')\n",
    "plt.show()"
   ]
  },
  {
   "cell_type": "code",
   "execution_count": 37,
   "id": "c0b4a068-4089-47cd-a525-7b6434a786dd",
   "metadata": {},
   "outputs": [
    {
     "data": {
      "image/png": "[encoded data removed]",
      "text/plain": [
       "<Figure size 640x480 with 1 Axes>"
      ]
     },
     "metadata": {},
     "output_type": "display_data"
    }
   ],
   "source": [
    "# Monthly trend line\n",
    "monthly_expense.plot(kind='line', color='red', label='Expense')\n",
    "monthly_income.plot(kind='line', color='green', label='Income')\n",
    "plt.legend()\n",
    "plt.title('Monthly Income & Expense Trend')\n",
    "plt.show()"
   ]
  },
  {
   "cell_type": "code",
   "execution_count": 39,
   "id": "d52e1521-4644-45c9-9efe-9ff5a1cc962d",
   "metadata": {},
   "outputs": [
    {
     "data": {
      "image/png": "[encoded data removed]",
      "text/plain": [
       "<Figure size 640x480 with 1 Axes>"
      ]
     },
     "metadata": {},
     "output_type": "display_data"
    }
   ],
   "source": [
    "# Mode-wise pie chart\n",
    "mode_summary.plot(kind='pie', autopct='%1.1f%%', title='Payment Mode Distribution')\n",
    "plt.show()"
   ]
  },
  {
   "cell_type": "code",
   "execution_count": 41,
   "id": "59505dbe-2c8a-48a5-95cb-16f5e53d01ed",
   "metadata": {},
   "outputs": [],
   "source": [
    "## Pythonic Functions & Optional OOP"
   ]
  },
  {
   "cell_type": "code",
   "execution_count": 43,
   "id": "5d76b341-6331-4718-8be0-f04d848dc546",
   "metadata": {},
   "outputs": [],
   "source": [
    "# Function to get top category\n",
    "def top_category(df):\n",
    "    return df.groupby('Category')['Debit/Credit'].sum().idxmax()"
   ]
  },
  {
   "cell_type": "code",
   "execution_count": 45,
   "id": "e9acf395-8699-4050-a04e-b7f978a94086",
   "metadata": {},
   "outputs": [],
   "source": [
    "# Function to get monthly summary\n",
    "def monthly_summary(df):\n",
    "    df['Month'] = df['Date / Time'].dt.to_period('M')\n",
    "    return df.groupby(['Month', 'Income/Expense'])['Debit/Credit'].sum().unstack()"
   ]
  },
  {
   "cell_type": "code",
   "execution_count": 47,
   "id": "9594e44d-7110-4440-ba5a-48fab842f919",
   "metadata": {},
   "outputs": [],
   "source": [
    "class FinanceTracker:\n",
    "    def __init__(self, dataframe):\n",
    "        self.df = dataframe\n",
    "    \n",
    "    def total_income(self):\n",
    "        return self.df[self.df['Income/Expense']=='Income']['Debit/Credit'].sum()\n",
    "    \n",
    "    def total_expense(self):\n",
    "        return self.df[self.df['Income/Expense']=='Expense']['Debit/Credit'].sum()\n",
    "    \n",
    "    def top_category(self):\n",
    "        return self.df.groupby('Category')['Debit/Credit'].sum().idxmax()\n"
   ]
  },
  {
   "cell_type": "code",
   "execution_count": 49,
   "id": "d1e4e5f4-e48a-42c1-8b03-1e7faf4e80a3",
   "metadata": {},
   "outputs": [],
   "source": [
    "## Save summary/ Results"
   ]
  },
  {
   "cell_type": "code",
   "execution_count": 51,
   "id": "f7fbc96b-21a8-413f-8ce5-4e7948516827",
   "metadata": {},
   "outputs": [],
   "source": [
    "summary = df.groupby('Category')['Debit/Credit'].sum()\n",
    "summary.to_csv('category_summary.csv')\n",
    "monthly_summary(df).to_csv('monthly_summary.csv')\n"
   ]
  },
  {
   "cell_type": "code",
   "execution_count": null,
   "id": "8f57f828-5f31-4786-8154-2b0744f7bfc3",
   "metadata": {},
   "outputs": [],
   "source": []
  }
 ],
 "metadata": {
  "kernelspec": {
   "display_name": "Python 3 (ipykernel)",
   "language": "python",
   "name": "python3"
  },
  "language_info": {
   "codemirror_mode": {
    "name": "ipython",
    "version": 3
   },
   "file_extension": ".py",
   "mimetype": "text/x-python",
   "name": "python",
   "nbconvert_exporter": "python",
   "pygments_lexer": "ipython3",
   "version": "3.11.7"
  }
 },
 "nbformat": 4,
 "nbformat_minor": 5
}
